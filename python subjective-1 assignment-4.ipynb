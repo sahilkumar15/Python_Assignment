{
 "cells": [
  {
   "cell_type": "markdown",
   "metadata": {},
   "source": [
    "# Q1. Write a Python program to get the string from the given string where all the occurrence of its first char has been changed to '$,' except first char itself?"
   ]
  },
  {
   "cell_type": "markdown",
   "metadata": {},
   "source": [
    "**Sample String: 'prospect'**\n",
    "\n",
    "**Expected Result : 'pros$ect'**"
   ]
  },
  {
   "cell_type": "code",
   "execution_count": 5,
   "metadata": {},
   "outputs": [
    {
     "name": "stdout",
     "output_type": "stream",
     "text": [
      "Enter String : prospect\n",
      "Result : 'pros$ect'\n"
     ]
    }
   ],
   "source": [
    "# function for changing the all the occurrence of its first char of the string\n",
    "def change_char(str1):\n",
    "    char = str1[0]\n",
    "    modifiedstr = str1[1:].replace(char, '$')\n",
    "    modifiedstr = char + modifiedstr\n",
    "    return modifiedstr\n",
    "\n",
    "string = input('Enter String : ')\n",
    "\n",
    "result = change_char(string)\n",
    "print(f'Result : \\'{result}\\'')"
   ]
  },
  {
   "cell_type": "code",
   "execution_count": 4,
   "metadata": {},
   "outputs": [
    {
     "name": "stdout",
     "output_type": "stream",
     "text": [
      "Enter String : prospect\n",
      "Result : 'pros$ect'\n"
     ]
    }
   ],
   "source": [
    "while True: # Never ending loop unless user type proper alphabets\n",
    "    try:\n",
    "        string2 = str(input('Enter String : '))\n",
    "        if (name.isalpha()):\n",
    "            result = change_char(string2)\n",
    "            break\n",
    "        else:\n",
    "            raise TypeError\n",
    "    except TypeError:\n",
    "        print(\"Letters only please.\")\n",
    "        continue # This causes it to continue\n",
    "    except EOFError:\n",
    "        print(\"Please input something....\")\n",
    "        continue # This causes it to continue\n",
    "        \n",
    "print(f'Result : \\'{result}\\'')"
   ]
  },
  {
   "cell_type": "markdown",
   "metadata": {},
   "source": [
    "# Q2. Write a Python program to get the single string from the two given strings, and separated by the space and swap the first two characters of each string?"
   ]
  },
  {
   "cell_type": "markdown",
   "metadata": {},
   "source": [
    "**Sample String : 'abc', 'xyz'.**\n",
    "    \n",
    "**Expected Result: 'xyc abz'**"
   ]
  },
  {
   "cell_type": "code",
   "execution_count": 11,
   "metadata": {},
   "outputs": [
    {
     "name": "stdout",
     "output_type": "stream",
     "text": [
      "xyc abz\n"
     ]
    }
   ],
   "source": [
    "def chars_swap(m, n):\n",
    "    p = n[:2] + m[2:]\n",
    "    q = m[:2] + n[2:]\n",
    "\n",
    "    return p + ' ' + q\n",
    "print(chars_swap('abc', 'xyz'))"
   ]
  },
  {
   "cell_type": "markdown",
   "metadata": {},
   "source": [
    "# Q3. Write the Python program to add 'ing' at the end of the given string (length of the string should be at least 3). If given string already ends with 'ing,' then add 'ly' instead. If string length of the given string is less than 3, leave it unchanged?\n"
   ]
  },
  {
   "cell_type": "markdown",
   "metadata": {},
   "source": [
    "1. Sample string: ' abc '\n",
    "2. Expected result: ' abcing '\n",
    "3. Sample string: ' string '\n",
    "4. Expected result: ' stringly '"
   ]
  },
  {
   "cell_type": "code",
   "execution_count": 21,
   "metadata": {},
   "outputs": [
    {
     "name": "stdout",
     "output_type": "stream",
     "text": [
      "abcing\n",
      "stringly\n",
      "st\n"
     ]
    }
   ],
   "source": [
    "# Taking single string each time\n",
    "def change_string(string):\n",
    "    if len(string) >= 3:\n",
    "        if string[-3:].lower() == 'ing':\n",
    "            l = 'ly'\n",
    "            string = string + l\n",
    "        else:\n",
    "            k = 'ing'\n",
    "            string = string + k\n",
    "    else:\n",
    "        string\n",
    "        \n",
    "    return string\n",
    "\n",
    "print(change_string('abc'))\n",
    "print(change_string('string'))\n",
    "print(change_string('st'))"
   ]
  },
  {
   "cell_type": "code",
   "execution_count": 28,
   "metadata": {},
   "outputs": [
    {
     "name": "stdout",
     "output_type": "stream",
     "text": [
      "['abcing', 'stringly', 'st']\n"
     ]
    }
   ],
   "source": [
    "# taking all string at once in a list.\n",
    "new_string = []\n",
    "def change_string(list_string):\n",
    "    for string in list_string:\n",
    "        if len(string) >= 3:\n",
    "            if string[-3:].lower() == 'ing':\n",
    "                new_string.append(string + 'ly')\n",
    "            else:\n",
    "                new_string.append(string+'ing')\n",
    "        else:\n",
    "            new_string.append(string)\n",
    "        \n",
    "    return new_string\n",
    "\n",
    "list1 = ['abc', 'string', 'st']\n",
    "print(change_string(list1))"
   ]
  },
  {
   "cell_type": "markdown",
   "metadata": {},
   "source": [
    "# Q4. Write the Python program to find the first appearance of the substring 'not' and 'poor' from the given string, if 'not' follows the 'poor', replace the whole 'not'...' poor' substring with 'good'.Return the resulting string."
   ]
  },
  {
   "cell_type": "markdown",
   "metadata": {},
   "source": [
    "**Sample string: 'The lyrics are not that poor!'**\n",
    "\n",
    "**'The lyrics are poor!'**\n",
    "\n",
    "**Expected Result: 'The lyrics are good!'**\n",
    "\n",
    "**'The lyrics are poor!'**"
   ]
  },
  {
   "cell_type": "code",
   "execution_count": 31,
   "metadata": {},
   "outputs": [
    {
     "data": {
      "text/plain": [
       "['not']"
      ]
     },
     "execution_count": 31,
     "metadata": {},
     "output_type": "execute_result"
    }
   ],
   "source": [
    "import re\n",
    "def substring(sent):\n",
    "    sent2 = re.findall('not', sent)\n",
    "    return sent2\n",
    "    \n",
    "substring('The lyrics are not that poor!')"
   ]
  },
  {
   "cell_type": "code",
   "execution_count": 35,
   "metadata": {},
   "outputs": [
    {
     "name": "stdout",
     "output_type": "stream",
     "text": [
      "The lyrics are good!\n",
      "The lyrics are poor!\n"
     ]
    }
   ],
   "source": [
    "def not_poor(str1):\n",
    "    snot = str1.find('not')\n",
    "    spoor = str1.find('poor')\n",
    "\n",
    "\n",
    "    if spoor > snot and snot>0 and spoor>0:\n",
    "        str1 = str1.replace(str1[snot:(spoor+4)], 'good')\n",
    "        return str1\n",
    "    else:\n",
    "        return str1\n",
    "print(not_poor( 'The lyrics are not that poor!'))\n",
    "print(not_poor('The lyrics are poor!'))\n"
   ]
  },
  {
   "cell_type": "markdown",
   "metadata": {},
   "source": [
    "# Q5. Write the Python program to remove the characters which have odd index values of a given string. "
   ]
  },
  {
   "cell_type": "code",
   "execution_count": 12,
   "metadata": {},
   "outputs": [
    {
     "name": "stdout",
     "output_type": "stream",
     "text": [
      "String at even place for \"Sahil\" : Shl\n",
      "String at even place for \"Kumar\": Kmr\n"
     ]
    }
   ],
   "source": [
    "def odd_values_string(str1):\n",
    "    even_values_string = \"\" \n",
    "    for i in range(len(str1)):\n",
    "        if i % 2 == 0:\n",
    "            even_values_string = even_values_string + str1[i]\n",
    "    return even_values_string\n",
    "\n",
    "str1 = odd_values_string('Sahil')\n",
    "str2 = odd_values_string('Kumar')\n",
    "print(f'String at even place for \"Sahil\" : {str1}')\n",
    "print(f'String at even place for \"Kumar\": {str2}')"
   ]
  },
  {
   "cell_type": "markdown",
   "metadata": {},
   "source": [
    "# Q6. Write the Python function to get a string made of 4 copies of the last two characters of the specified string (length must be at least 2). \n",
    "Sample function  and  result :\n",
    "\n",
    "insert-end ('Python')  -> abababab \n",
    "\n",
    "\n",
    "insert-end('Exercises')  -> jkjkjkjk "
   ]
  },
  {
   "cell_type": "code",
   "execution_count": 30,
   "metadata": {},
   "outputs": [
    {
     "name": "stdout",
     "output_type": "stream",
     "text": [
      "insert-end ('Python') -> onononon\n",
      "insert-end ('Exercises') -> eseseses\n"
     ]
    }
   ],
   "source": [
    "# usinf function\n",
    "def insert_end(str1):\n",
    "    sub_str1 = str1[-2:]\n",
    "    return sub_str1 * 4\n",
    "\n",
    "a = insert_end('Python')\n",
    "b = insert_end('Exercises')\n",
    "print(f'insert-end (\\'Python\\') -> {a}')\n",
    "print(f'insert-end (\\'Exercises\\') -> {b}')"
   ]
  },
  {
   "cell_type": "code",
   "execution_count": 31,
   "metadata": {},
   "outputs": [
    {
     "name": "stdout",
     "output_type": "stream",
     "text": [
      "insert-end ('Python') -> onononon\n",
      "insert-end ('Exercises') -> eseseses\n"
     ]
    }
   ],
   "source": [
    "# using lambda\n",
    "\n",
    "insert_end = lambda str1: str1[-2:]*4 \n",
    "\n",
    "a = insert_end('Python')\n",
    "b = insert_end('Exercises')\n",
    "print(f'insert-end (\\'Python\\') -> {a}')\n",
    "print(f'insert-end (\\'Exercises\\') -> {b}')"
   ]
  },
  {
   "cell_type": "markdown",
   "metadata": {},
   "source": [
    "# Q7. Write the python function to get a string made of its first three characters of a specified string. If the length of the string is less than 3 then return the original string. \n",
    " \n",
    "Sample function and result : \n",
    "\n",
    "first-three('ipy') -> ipy \n",
    "\n",
    "first-three('python') -> pyt \n",
    " "
   ]
  },
  {
   "cell_type": "code",
   "execution_count": 27,
   "metadata": {},
   "outputs": [
    {
     "name": "stdout",
     "output_type": "stream",
     "text": [
      "first-three('ipy') -> ipy\n",
      "first-three('python') -> pyt\n"
     ]
    }
   ],
   "source": [
    "def first_three(str1):\n",
    "    if len(str1) >= 3:\n",
    "        return str1[:3]\n",
    "    else:\n",
    "        return str1\n",
    "    \n",
    "a = first_three('ipy')\n",
    "b = first_three('python')\n",
    "print(f'first-three(\\'ipy\\') -> {a}')\n",
    "print(f'first-three(\\'python\\') -> {b}')"
   ]
  },
  {
   "cell_type": "code",
   "execution_count": 28,
   "metadata": {},
   "outputs": [
    {
     "name": "stdout",
     "output_type": "stream",
     "text": [
      "first-three('ipy') -> ipy\n",
      "first-three('python') -> pyt\n"
     ]
    }
   ],
   "source": [
    "first_three = lambda str1 : str1[:3] if len(str1) >= 3  else  str1\n",
    "\n",
    "a = first_three('ipy')\n",
    "b = first_three('python')\n",
    "print(f'first-three(\\'ipy\\') -> {a}')\n",
    "print(f'first-three(\\'python\\') -> {b}')"
   ]
  },
  {
   "cell_type": "markdown",
   "metadata": {},
   "source": [
    "# Q8. Write the python program to print the following floating numbers up   to 2 decimal places? "
   ]
  },
  {
   "cell_type": "code",
   "execution_count": 77,
   "metadata": {},
   "outputs": [
    {
     "name": "stdout",
     "output_type": "stream",
     "text": [
      "\n",
      "Original Number: 7.24336789\n",
      "Formatted Number: 7.24\n",
      "\n",
      "Original Number: 23.99657289\n",
      "Formatted Number: 24.00\n",
      "\n"
     ]
    }
   ],
   "source": [
    "x = 7.24336789\n",
    "y = 23.99657289\n",
    "\n",
    "print(f\"\\nOriginal Number: {x}\")\n",
    "print(f\"Formatted Number: {x:.2f}\\n\")\n",
    "\n",
    "print(f\"Original Number: {y}\")\n",
    "print(f\"Formatted Number: {y:.2f}\\n\")"
   ]
  },
  {
   "cell_type": "markdown",
   "metadata": {},
   "source": [
    "# Q9. Write the Python program to format a number with a percentage? "
   ]
  },
  {
   "cell_type": "code",
   "execution_count": 78,
   "metadata": {},
   "outputs": [
    {
     "name": "stdout",
     "output_type": "stream",
     "text": [
      "\n",
      "Original Number: 7.24336789\n",
      "Formatted Number: 724.34%\n",
      "\n",
      "Original Number: 23.99657289\n",
      "Formatted Number: 2399.66%\n",
      "\n"
     ]
    }
   ],
   "source": [
    "x = 7.24336789\n",
    "y = 23.99657289\n",
    "\n",
    "print(f\"\\nOriginal Number: {x}\")\n",
    "print(f\"Formatted Number: {x:.2%}\\n\")\n",
    "\n",
    "print(f\"Original Number: {y}\")\n",
    "print(f\"Formatted Number: {y:.2%}\\n\")"
   ]
  },
  {
   "cell_type": "markdown",
   "metadata": {},
   "source": [
    "# Q10. Write the Python program to count occurrences of a substring in a   String? "
   ]
  },
  {
   "cell_type": "code",
   "execution_count": 79,
   "metadata": {},
   "outputs": [
    {
     "name": "stdout",
     "output_type": "stream",
     "text": [
      " substring \"string\" count in a string is : 2\n"
     ]
    }
   ],
   "source": [
    "#  funtion\n",
    "def substring_count(str1, substring):\n",
    "    return str1.count(substring)\n",
    "\n",
    "str1 = \"Write the python function to get a string made of its first three characters of a specified string.\"\n",
    "substring = \"string\"\n",
    "count = substring_count(str1, substring)\n",
    "print(f' substring \"{substring}\" count in a string is : {count}')\n",
    "        "
   ]
  },
  {
   "cell_type": "code",
   "execution_count": 80,
   "metadata": {},
   "outputs": [
    {
     "name": "stdout",
     "output_type": "stream",
     "text": [
      " substring \"string\" count in a string is : 2\n"
     ]
    }
   ],
   "source": [
    "#  lambda\n",
    "substring_count = lambda str1, substring : str1.count(substring)\n",
    "\n",
    "str1 = \"Write the python function to get a string made of its first three characters of a specified string.\"\n",
    "substring = \"string\"\n",
    "count = substring_count(str1, substring)\n",
    "print(f' substring \"{substring}\" count in a string is : {count}')"
   ]
  },
  {
   "cell_type": "markdown",
   "metadata": {},
   "source": [
    "# Q11. Write the Python program to count repeated characters in a string. \n",
    " \n",
    "Sample string: ' thequickbrownjumpsoverthelazydog ' \n",
    "\n",
    "Expected output: \n",
    "\n",
    "e 3\n",
    "\n",
    "h 2\n",
    "\n",
    "o 3\n",
    "\n",
    "r 2\n",
    "\n",
    "t 2\n",
    "\n",
    "u 2"
   ]
  },
  {
   "cell_type": "code",
   "execution_count": 81,
   "metadata": {},
   "outputs": [
    {
     "name": "stdout",
     "output_type": "stream",
     "text": [
      "e 3\n",
      "h 2\n",
      "o 3\n",
      "r 2\n",
      "t 2\n",
      "u 2\n"
     ]
    }
   ],
   "source": [
    "chars = \"abcdefghijklmnopqrstuvwxyz\"\n",
    "check_string = \"thequickbrownjumpsoverthelazydog \"\n",
    "\n",
    "for char in chars:\n",
    "    count = check_string.count(char)\n",
    "    if count > 1:\n",
    "        print (char, count)"
   ]
  },
  {
   "cell_type": "markdown",
   "metadata": {},
   "source": [
    "# Q12. Write the Python program to print the square and cube symbol in   the area of a rectangle and volume of a cylinder? \n",
    "\n",
    "Sample output- \n",
    "\n",
    "The area of the rectangle is 1256.66cm2 \n",
    "\n",
    "The volume of the cylinder is 1254.725cm3 \n",
    " "
   ]
  },
  {
   "cell_type": "code",
   "execution_count": 84,
   "metadata": {},
   "outputs": [
    {
     "name": "stdout",
     "output_type": "stream",
     "text": [
      "The area of the rectangle is 1256.66cm²\n",
      "The volume of the cylinder is 1254.725cm³\n"
     ]
    }
   ],
   "source": [
    "area = 1256.66\n",
    "volume = 1254.725\n",
    "\n",
    "print(f\"The area of the rectangle is {area:{2}}cm\\u00b2\")\n",
    "\n",
    "print(f\"The volume of the cylinder is {volume:{3}}cm\\u00b3\")"
   ]
  },
  {
   "cell_type": "markdown",
   "metadata": {},
   "source": [
    "# Q13. Write the Python program to check if a string contains all letters of   the alphabet? "
   ]
  },
  {
   "cell_type": "code",
   "execution_count": 85,
   "metadata": {},
   "outputs": [
    {
     "name": "stdout",
     "output_type": "stream",
     "text": [
      "True\n",
      "False\n"
     ]
    }
   ],
   "source": [
    "import string\n",
    "\n",
    "alphabet = set(string.ascii_lowercase)\n",
    "\n",
    "input_string = 'The quick brown fox jumps over the lazy dog'\n",
    "print(set(input_string.lower()) >= alphabet)\n",
    "\n",
    "input_string = 'The quick brown fox jumps over the lazy cat'\n",
    "print(set(input_string.lower()) >= alphabet)"
   ]
  },
  {
   "cell_type": "markdown",
   "metadata": {},
   "source": [
    "# Q14.  Write the Python program to find the second most repeated word   in a given string? "
   ]
  },
  {
   "cell_type": "code",
   "execution_count": 96,
   "metadata": {},
   "outputs": [
    {
     "name": "stdout",
     "output_type": "stream",
     "text": [
      "bbb\n"
     ]
    }
   ],
   "source": [
    "# Python code to print Second most repeated \n",
    "# word in a sequence in Python \n",
    "from collections import Counter \n",
    "\n",
    "def secondFrequent(input1): \n",
    "\n",
    "    # Convert given list into dictionary \n",
    "    # it's output will be like {'ccc':1,'aaa':3,'bbb':2} \n",
    "    dict1 = Counter(input1) \n",
    "\n",
    "    # Get the list of all values and sort it in ascending order \n",
    "    value = sorted(dict1.values(), reverse=True) \n",
    "\n",
    "    # Pick second largest element \n",
    "    secondLarge = value[1] \n",
    "\n",
    "    # Traverse dictionary and print key whose \n",
    "    # value is equal to second large element \n",
    "    for (key, val) in dict1.items(): \n",
    "        if val == secondLarge: \n",
    "            print (key) \n",
    "            return\n",
    "\n",
    "# Driver program \n",
    "# if __name__ == \"__main__\": \n",
    "input2 = ['aaa','bbb','ccc','bbb','aaa','aaa'] \n",
    "secondFrequent(input2) \n"
   ]
  },
  {
   "cell_type": "markdown",
   "metadata": {},
   "source": [
    "# Q15. Write the Python program to find the minimum window in the given  string, which will contains all the characters of another given   strings? \n",
    "Example 1 \n",
    "\n",
    "Input : string1 = \" PRWSOERIUSFK \" \n",
    "\n",
    "string2 = \" OSU \" \n",
    "\n",
    "Output: Minimum window is \"OERIUS\" "
   ]
  },
  {
   "cell_type": "code",
   "execution_count": null,
   "metadata": {},
   "outputs": [],
   "source": []
  }
 ],
 "metadata": {
  "kernelspec": {
   "display_name": "Python 3",
   "language": "python",
   "name": "python3"
  },
  "language_info": {
   "codemirror_mode": {
    "name": "ipython",
    "version": 3
   },
   "file_extension": ".py",
   "mimetype": "text/x-python",
   "name": "python",
   "nbconvert_exporter": "python",
   "pygments_lexer": "ipython3",
   "version": "3.7.3"
  }
 },
 "nbformat": 4,
 "nbformat_minor": 2
}
